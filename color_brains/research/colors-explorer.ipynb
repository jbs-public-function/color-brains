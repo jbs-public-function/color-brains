{
 "cells": [
  {
   "cell_type": "code",
   "execution_count": 1,
   "id": "3069860f-1757-40ff-b31a-cf99f7686ffa",
   "metadata": {},
   "outputs": [],
   "source": [
    "import matplotlib as mpl\n",
    "import matplotlib.colors as mcolors"
   ]
  },
  {
   "cell_type": "code",
   "execution_count": 2,
   "id": "4e31389f-0bf0-404c-9992-6919fcd8865a",
   "metadata": {},
   "outputs": [
    {
     "data": {
      "image/png": "[encoded data removed]",
      "text/html": [
       "<div style=\"vertical-align: middle;\"><strong>viridis</strong> </div><div class=\"cmap\"><img alt=\"viridis colormap\" title=\"viridis\" style=\"border: 1px solid #555;\" src=\"data:image/png;base64,iVBORw0KGgoAAAANSUhEUgAAAgAAAABACAYAAABsv8+/AAAAFnRFWHRUaXRsZQB2aXJpZGlzIGNvbG9ybWFwrE0mCwAAABx0RVh0RGVzY3JpcHRpb24AdmlyaWRpcyBjb2xvcm1hcAtjl3IAAAAwdEVYdEF1dGhvcgBNYXRwbG90bGliIHYzLjguMSwgaHR0cHM6Ly9tYXRwbG90bGliLm9yZzr4aEEAAAAydEVYdFNvZnR3YXJlAE1hdHBsb3RsaWIgdjMuOC4xLCBodHRwczovL21hdHBsb3RsaWIub3JnFF73ZgAAAiJJREFUeJzt1kGSmzAURdEv2FqWkP0vJfQgMhQCGceV2Ttn4pL0EVQPum771X5vVVXVWv39XfrPeV193V5zS98f1sf5/fPjey73zu6/3Hv/uz2cz57f9vP68rxO9+/zre7nhvvG+et6vH92bw3PDfcsD+eX59+/53n96f3362/f87/vf5yr93Of72/fPV9P89tX3zGeH3OT8/07Zs+/32+TuXZZD8/VODf8W5uuH/b7vctlfuv7NazH8/t7ZnP7bz2cD3NL+/Ph3Hl+/efz83vWun/vuL++nquH9eu9w/uu6/vvOO49f/8xf77vOj+8b7Y/fMfse9ca/y7nv+d62a++X+f1vt+G/b7u+/u6TxzzS//tc2053QMABBEAABBIAABAIAEAAIEEAAAEEgAAEEgAAEAgAQAAgQQAAAQSAAAQSAAAQCABAACBBAAABBIAABBIAABAIAEAAIEEAAAEEgAAEEgAAEAgAQAAgQQAAAQSAAAQSAAAQCABAACBBAAABBIAABBIAABAIAEAAIEEAAAEEgAAEEgAAEAgAQAAgQQAAAQSAAAQSAAAQCABAACBBAAABBIAABBIAABAIAEAAIEEAAAEEgAAEEgAAEAgAQAAgQQAAAQSAAAQSAAAQCABAACBBAAABBIAABBIAABAIAEAAIEEAAAEEgAAEEgAAEAgAQAAgQQAAAQSAAAQSAAAQCABAACBBAAABBIAABBIAABAoB9ucImHxcKZtAAAAABJRU5ErkJggg==\"></div><div style=\"vertical-align: middle; max-width: 514px; display: flex; justify-content: space-between;\"><div style=\"float: left;\"><div title=\"#440154ff\" style=\"display: inline-block; width: 1em; height: 1em; margin: 0; vertical-align: middle; border: 1px solid #555; background-color: #440154ff;\"></div> under</div><div style=\"margin: 0 auto; display: inline-block;\">bad <div title=\"#00000000\" style=\"display: inline-block; width: 1em; height: 1em; margin: 0; vertical-align: middle; border: 1px solid #555; background-color: #00000000;\"></div></div><div style=\"float: right;\">over <div title=\"#fde725ff\" style=\"display: inline-block; width: 1em; height: 1em; margin: 0; vertical-align: middle; border: 1px solid #555; background-color: #fde725ff;\"></div></div>"
      ],
      "text/plain": [
       "<matplotlib.colors.ListedColormap at 0x119fcba50>"
      ]
     },
     "execution_count": 2,
     "metadata": {},
     "output_type": "execute_result"
    }
   ],
   "source": [
    "# Perceptually Uniform Sequential\n",
    "mpl.cm.cmaps_listed['viridis']"
   ]
  },
  {
   "cell_type": "code",
   "execution_count": 3,
   "id": "cf000e9a-0f34-4d49-83a0-dfd759daf953",
   "metadata": {},
   "outputs": [
    {
     "data": {
      "image/png": "[encoded data removed]",
      "text/html": [
       "<div style=\"vertical-align: middle;\"><strong>Greys</strong> </div><div class=\"cmap\"><img alt=\"Greys colormap\" title=\"Greys\" style=\"border: 1px solid #555;\" src=\"data:image/png;base64,iVBORw0KGgoAAAANSUhEUgAAAgAAAABACAYAAABsv8+/AAAAFHRFWHRUaXRsZQBHcmV5cyBjb2xvcm1hcORtd/YAAAAadEVYdERlc2NyaXB0aW9uAEdyZXlzIGNvbG9ybWFwGjLeEAAAADB0RVh0QXV0aG9yAE1hdHBsb3RsaWIgdjMuOC4xLCBodHRwczovL21hdHBsb3RsaWIub3JnOvhoQQAAADJ0RVh0U29mdHdhcmUATWF0cGxvdGxpYiB2My44LjEsIGh0dHBzOi8vbWF0cGxvdGxpYi5vcmcUXvdmAAABaklEQVR4nO3WSwrCMABAwej9z9y6UReCKPYrb2YTmjRpoJt3med5HmOM+/C09/NR3333/Gl+6fre+9Za/3Zces7R+6dpWrT+r+esvW+v87Y+91/v8es9X+e3fu8s99jq/57t/cd4HQBAjgAAgCABAABBAgAAggQAAAQJAAAIEgAAECQAACBIAABAkAAAgCABAABBAgAAggQAAAQJAAAIEgAAECQAACBIAABAkAAAgCABAABBAgAAggQAAAQJAAAIEgAAECQAACBIAABAkAAAgCABAABBAgAAggQAAAQJAAAIEgAAECQAACBIAABAkAAAgCABAABBAgAAggQAAAQJAAAIEgAAECQAACBIAABAkAAAgCABAABBAgAAggQAAAQJAAAIEgAAECQAACBIAABAkAAAgCABAABBAgAAggQAAAQJAAAIEgAAECQAACBIAABAkAAAgCABAABBAgAAggQAAAQJAAAIEgAAEHQDHfmnnRvzoAgAAAAASUVORK5CYII=\"></div><div style=\"vertical-align: middle; max-width: 514px; display: flex; justify-content: space-between;\"><div style=\"float: left;\"><div title=\"#ffffffff\" style=\"display: inline-block; width: 1em; height: 1em; margin: 0; vertical-align: middle; border: 1px solid #555; background-color: #ffffffff;\"></div> under</div><div style=\"margin: 0 auto; display: inline-block;\">bad <div title=\"#00000000\" style=\"display: inline-block; width: 1em; height: 1em; margin: 0; vertical-align: middle; border: 1px solid #555; background-color: #00000000;\"></div></div><div style=\"float: right;\">over <div title=\"#000000ff\" style=\"display: inline-block; width: 1em; height: 1em; margin: 0; vertical-align: middle; border: 1px solid #555; background-color: #000000ff;\"></div></div>"
      ],
      "text/plain": [
       "<matplotlib.colors.LinearSegmentedColormap at 0x11a00c850>"
      ]
     },
     "execution_count": 3,
     "metadata": {},
     "output_type": "execute_result"
    }
   ],
   "source": [
    "# Sequential\n",
    "mpl.cm.Greys"
   ]
  },
  {
   "cell_type": "code",
   "execution_count": 4,
   "id": "8fc29c80-c84e-45de-ba57-3c7780cab97a",
   "metadata": {},
   "outputs": [
    {
     "data": {
      "image/png": "[encoded data removed]",
      "text/html": [
       "<div style=\"vertical-align: middle;\"><strong>binary</strong> </div><div class=\"cmap\"><img alt=\"binary colormap\" title=\"binary\" style=\"border: 1px solid #555;\" src=\"data:image/png;base64,iVBORw0KGgoAAAANSUhEUgAAAgAAAABACAYAAABsv8+/AAAAFXRFWHRUaXRsZQBiaW5hcnkgY29sb3JtYXDgovmoAAAAG3RFWHREZXNjcmlwdGlvbgBiaW5hcnkgY29sb3JtYXCpNeFMAAAAMHRFWHRBdXRob3IATWF0cGxvdGxpYiB2My44LjEsIGh0dHBzOi8vbWF0cGxvdGxpYi5vcmc6+GhBAAAAMnRFWHRTb2Z0d2FyZQBNYXRwbG90bGliIHYzLjguMSwgaHR0cHM6Ly9tYXRwbG90bGliLm9yZxRe92YAAAFQSURBVHic7dYxDsIwFAXBD/c/s01DJERHBBLRzjRWCvul3Nvee8/MPA/nl8611ryyb//K+2ffO+4d32f/x/5/7H/6zvu9s/9h/zf79wEAcgQAAAQJAAAIEgAAECQAACBIAABAkAAAgCABAABBAgAAggQAAAQJAAAIEgAAECQAACBIAABAkAAAgCABAABBAgAAggQAAAQJAAAIEgAAECQAACBIAABAkAAAgCABAABBAgAAggQAAAQJAAAIEgAAECQAACBIAABAkAAAgCABAABBAgAAggQAAAQJAAAIEgAAECQAACBIAABAkAAAgCABAABBAgAAggQAAAQJAAAIEgAAECQAACBIAABAkAAAgCABAABBAgAAggQAAAQJAAAIEgAAECQAACBIAABAkAAAgCABAABBAgAAggQAAAQJAAAIEgAAECQAACBIAABAkAAAgKAHBe68nT8SsbMAAAAASUVORK5CYII=\"></div><div style=\"vertical-align: middle; max-width: 514px; display: flex; justify-content: space-between;\"><div style=\"float: left;\"><div title=\"#ffffffff\" style=\"display: inline-block; width: 1em; height: 1em; margin: 0; vertical-align: middle; border: 1px solid #555; background-color: #ffffffff;\"></div> under</div><div style=\"margin: 0 auto; display: inline-block;\">bad <div title=\"#00000000\" style=\"display: inline-block; width: 1em; height: 1em; margin: 0; vertical-align: middle; border: 1px solid #555; background-color: #00000000;\"></div></div><div style=\"float: right;\">over <div title=\"#000000ff\" style=\"display: inline-block; width: 1em; height: 1em; margin: 0; vertical-align: middle; border: 1px solid #555; background-color: #000000ff;\"></div></div>"
      ],
      "text/plain": [
       "<matplotlib.colors.LinearSegmentedColormap at 0x11a00da50>"
      ]
     },
     "execution_count": 4,
     "metadata": {},
     "output_type": "execute_result"
    }
   ],
   "source": [
    "# Sequential (2)\n",
    "mpl.cm.binary"
   ]
  },
  {
   "cell_type": "code",
   "execution_count": 5,
   "id": "5b34aff8",
   "metadata": {},
   "outputs": [
    {
     "data": {
      "image/png": "[encoded data removed]",
      "text/html": [
       "<div style=\"vertical-align: middle;\"><strong>PiYG</strong> </div><div class=\"cmap\"><img alt=\"PiYG colormap\" title=\"PiYG\" style=\"border: 1px solid #555;\" src=\"data:image/png;base64,iVBORw0KGgoAAAANSUhEUgAAAgAAAABACAYAAABsv8+/AAAAE3RFWHRUaXRsZQBQaVlHIGNvbG9ybWFwFTPRvAAAABl0RVh0RGVzY3JpcHRpb24AUGlZRyBjb2xvcm1hcJ6BQSQAAAAwdEVYdEF1dGhvcgBNYXRwbG90bGliIHYzLjguMSwgaHR0cHM6Ly9tYXRwbG90bGliLm9yZzr4aEEAAAAydEVYdFNvZnR3YXJlAE1hdHBsb3RsaWIgdjMuOC4xLCBodHRwczovL21hdHBsb3RsaWIub3JnFF73ZgAAAhlJREFUeJzt1ktu2zAARVFKyQqzsO7YYgcmlYoy/YM7eudMCH4jo0Bxlz/LTy2llHVZynVch/H2+td/Pv/2vfW6vnyvx/Hrwfzlc8uH37u9XvrvWY/n9vV+7+n9pe2v7+23d8vkXp+f9vu9/fe0eR/G/WU2L/fPvfrum+dr+4x+73ds+5P1Pq/j+vBeHc4/fuf2e6e/M5zff0fZ2ry2cSv/nqjD/vz8ZL2++s5757d6uT+WS/ucZ89td/f7fPre6dxz7+3j1ufbYX6pt9d/723Hc0/vH7/vMrl33p98x77ex/7vVB+sD/un9X5+m6x/+H5br/t6uc7buO/3ee37s/Plw+/17xven5zv5/p/pwBAEAEAAIEEAAAEEgAAEEgAAEAgAQAAgQQAAAQSAAAQSAAAQCABAACBBAAABBIAABBIAABAIAEAAIEEAAAEEgAAEEgAAEAgAQAAgQQAAAQSAAAQSAAAQCABAACBBAAABBIAABBIAABAIAEAAIEEAAAEEgAAEEgAAEAgAQAAgQQAAAQSAAAQSAAAQCABAACBBAAABBIAABBIAABAIAEAAIEEAAAEEgAAEEgAAEAgAQAAgQQAAAQSAAAQSAAAQCABAACBBAAABBIAABBIAABAIAEAAIEEAAAEEgAAEEgAAEAgAQAAgQQAAAQSAAAQSAAAQCABAACBBAAABBIAABBIAABAIAEAAIEEAAAE+gsoq04y7Vaf7wAAAABJRU5ErkJggg==\"></div><div style=\"vertical-align: middle; max-width: 514px; display: flex; justify-content: space-between;\"><div style=\"float: left;\"><div title=\"#8e0152ff\" style=\"display: inline-block; width: 1em; height: 1em; margin: 0; vertical-align: middle; border: 1px solid #555; background-color: #8e0152ff;\"></div> under</div><div style=\"margin: 0 auto; display: inline-block;\">bad <div title=\"#00000000\" style=\"display: inline-block; width: 1em; height: 1em; margin: 0; vertical-align: middle; border: 1px solid #555; background-color: #00000000;\"></div></div><div style=\"float: right;\">over <div title=\"#276419ff\" style=\"display: inline-block; width: 1em; height: 1em; margin: 0; vertical-align: middle; border: 1px solid #555; background-color: #276419ff;\"></div></div>"
      ],
      "text/plain": [
       "<matplotlib.colors.LinearSegmentedColormap at 0x11a00cb50>"
      ]
     },
     "execution_count": 5,
     "metadata": {},
     "output_type": "execute_result"
    }
   ],
   "source": [
    "# Diverging\n",
    "mpl.cm.PiYG"
   ]
  },
  {
   "cell_type": "code",
   "execution_count": 6,
   "id": "33a2309a",
   "metadata": {},
   "outputs": [
    {
     "data": {
      "image/png": "[encoded data removed]",
      "text/html": [
       "<div style=\"vertical-align: middle;\"><strong>twilight</strong> </div><div class=\"cmap\"><img alt=\"twilight colormap\" title=\"twilight\" style=\"border: 1px solid #555;\" src=\"data:image/png;base64,iVBORw0KGgoAAAANSUhEUgAAAgAAAABACAYAAABsv8+/AAAAF3RFWHRUaXRsZQB0d2lsaWdodCBjb2xvcm1hcEflX9wAAAAddEVYdERlc2NyaXB0aW9uAHR3aWxpZ2h0IGNvbG9ybWFwbpu49QAAADB0RVh0QXV0aG9yAE1hdHBsb3RsaWIgdjMuOC4xLCBodHRwczovL21hdHBsb3RsaWIub3JnOvhoQQAAADJ0RVh0U29mdHdhcmUATWF0cGxvdGxpYiB2My44LjEsIGh0dHBzOi8vbWF0cGxvdGxpYi5vcmcUXvdmAAACuUlEQVR4nO3WQXLbMAwFUJD3P2C37UHELERRoKzW3eO9mUxAEKQdx5r57fevPyOm0SIiRlyNketx1qs37nrbm/3j2h9n73jujbHVx7znXs9zj/Of63Ru3ZfmHv37NfK5/cx9b6z3f77mZ2+8zH3tz3viZS/SmXj255vdZ+97IvVz77pz1esP2ee32eMv/Ws+f3D5jiPPja2/rb/0xueHfs/e/5w09/ggj7SXZ4/5AeSz41j1OI5H7zi/5XM91tlj7T3rMY6ImPNxrs8n5KrTXsz7Yp7f9uaZSPsj98Z86o5Uz34bW2890S3vR0Q7P9M2y4iW6tmPluo0M6v336lu7WO/R4vW9nP9H+s839edL3Pf6hbzfMz+9R4jzcX9Wu3ea+0x97Y3f/rWG/v+y3y0z97/zpz9Fq2/z639q+7XXluz20zf91bd25pb53pL67e5tubOOs/kXkt3zf5zpj/mW4voPa37duZe93u97unRUv987TzX0/2f/dZ6RE/1dfeq3/feZ9vLzKyjpXvmN36r9y/Hevqu/Yh7//EUx/mvBgCqEQAAoCABAAAKEgAAoCABAAAKEgAAoCABAAAKEgAAoCABAAAKEgAAoCABAAAKEgAAoCABAAAKEgAAoCABAAAKEgAAoCABAAAKEgAAoCABAAAKEgAAoCABAAAKEgAAoCABAAAKEgAAoCABAAAKEgAAoCABAAAKEgAAoCABAAAKEgAAoCABAAAKEgAAoCABAAAKEgAAoCABAAAKEgAAoCABAAAKEgAAoCABAAAKEgAAoCABAAAKEgAAoCABAAAKEgAAoCABAAAKEgAAoCABAAAKEgAAoCABAAAKEgAAoCABAAAKEgAAoCABAAAKEgAAoCABAAAKEgAAoCABAAAKEgAAoCABAAAKEgAAoCABAAAKEgAAoCABAAAK+gFQq+8ozaIrHgAAAABJRU5ErkJggg==\"></div><div style=\"vertical-align: middle; max-width: 514px; display: flex; justify-content: space-between;\"><div style=\"float: left;\"><div title=\"#e2d9e2ff\" style=\"display: inline-block; width: 1em; height: 1em; margin: 0; vertical-align: middle; border: 1px solid #555; background-color: #e2d9e2ff;\"></div> under</div><div style=\"margin: 0 auto; display: inline-block;\">bad <div title=\"#00000000\" style=\"display: inline-block; width: 1em; height: 1em; margin: 0; vertical-align: middle; border: 1px solid #555; background-color: #00000000;\"></div></div><div style=\"float: right;\">over <div title=\"#e2d9e2ff\" style=\"display: inline-block; width: 1em; height: 1em; margin: 0; vertical-align: middle; border: 1px solid #555; background-color: #e2d9e2ff;\"></div></div>"
      ],
      "text/plain": [
       "<matplotlib.colors.ListedColormap at 0x11a00c110>"
      ]
     },
     "execution_count": 6,
     "metadata": {},
     "output_type": "execute_result"
    }
   ],
   "source": [
    "# Cyclic\n",
    "mpl.cm.twilight"
   ]
  },
  {
   "cell_type": "code",
   "execution_count": 7,
   "id": "580c54ab",
   "metadata": {},
   "outputs": [
    {
     "data": {
      "image/png": "[encoded data removed]",
      "text/html": [
       "<div style=\"vertical-align: middle;\"><strong>Pastel1</strong> </div><div class=\"cmap\"><img alt=\"Pastel1 colormap\" title=\"Pastel1\" style=\"border: 1px solid #555;\" src=\"data:image/png;base64,iVBORw0KGgoAAAANSUhEUgAAAgAAAABACAYAAABsv8+/AAAAFnRFWHRUaXRsZQBQYXN0ZWwxIGNvbG9ybWFwOfPodwAAABx0RVh0RGVzY3JpcHRpb24AUGFzdGVsMSBjb2xvcm1hcJ7dWQ4AAAAwdEVYdEF1dGhvcgBNYXRwbG90bGliIHYzLjguMSwgaHR0cHM6Ly9tYXRwbG90bGliLm9yZzr4aEEAAAAydEVYdFNvZnR3YXJlAE1hdHBsb3RsaWIgdjMuOC4xLCBodHRwczovL21hdHBsb3RsaWIub3JnFF73ZgAAAWxJREFUeJzt1iFSAmAYAFEhGA0mKGKimri2yWDmFjTHQDeYDHqK32+Gfe8EG3fz8/b6e3fj3ven6YTl9k+f0wnLPX4cphOWe344TycstTkepxOWu16+phOW221fphOW+97dTycst50OAAD+nwEAgCADAABBBgAAggwAAAQZAAAIMgAAEGQAACDIAABAkAEAgCADAABBBgAAggwAAAQZAAAIMgAAEGQAACDIAABAkAEAgCADAABBBgAAggwAAAQZAAAIMgAAEGQAACDIAABAkAEAgCADAABBBgAAggwAAAQZAAAIMgAAEGQAACDIAABAkAEAgCADAABBBgAAggwAAAQZAAAIMgAAEGQAACDIAABAkAEAgCADAABBBgAAggwAAAQZAAAIMgAAEGQAACDIAABAkAEAgCADAABBBgAAggwAAAQZAAAIMgAAEGQAACDIAABAkAEAgCADAABBBgAAggwAAAQZAAAIMgAAEPQHNeIMVQSTlGQAAAAASUVORK5CYII=\"></div><div style=\"vertical-align: middle; max-width: 514px; display: flex; justify-content: space-between;\"><div style=\"float: left;\"><div title=\"#fbb4aeff\" style=\"display: inline-block; width: 1em; height: 1em; margin: 0; vertical-align: middle; border: 1px solid #555; background-color: #fbb4aeff;\"></div> under</div><div style=\"margin: 0 auto; display: inline-block;\">bad <div title=\"#00000000\" style=\"display: inline-block; width: 1em; height: 1em; margin: 0; vertical-align: middle; border: 1px solid #555; background-color: #00000000;\"></div></div><div style=\"float: right;\">over <div title=\"#f2f2f2ff\" style=\"display: inline-block; width: 1em; height: 1em; margin: 0; vertical-align: middle; border: 1px solid #555; background-color: #f2f2f2ff;\"></div></div>"
      ],
      "text/plain": [
       "<matplotlib.colors.ListedColormap at 0x11a00f490>"
      ]
     },
     "execution_count": 7,
     "metadata": {},
     "output_type": "execute_result"
    }
   ],
   "source": [
    "# Qualitative\n",
    "mpl.cm.Pastel1"
   ]
  },
  {
   "cell_type": "code",
   "execution_count": 8,
   "id": "0a886b92",
   "metadata": {},
   "outputs": [
    {
     "data": {
      "image/png": "[encoded data removed]",
      "text/html": [
       "<div style=\"vertical-align: middle;\"><strong>flag</strong> </div><div class=\"cmap\"><img alt=\"flag colormap\" title=\"flag\" style=\"border: 1px solid #555;\" src=\"data:image/png;base64,iVBORw0KGgoAAAANSUhEUgAAAgAAAABACAYAAABsv8+/AAAAE3RFWHRUaXRsZQBmbGFnIGNvbG9ybWFw9/g91wAAABl0RVh0RGVzY3JpcHRpb24AZmxhZyBjb2xvcm1hcHxKrU8AAAAwdEVYdEF1dGhvcgBNYXRwbG90bGliIHYzLjguMSwgaHR0cHM6Ly9tYXRwbG90bGliLm9yZzr4aEEAAAAydEVYdFNvZnR3YXJlAE1hdHBsb3RsaWIgdjMuOC4xLCBodHRwczovL21hdHBsb3RsaWIub3JnFF73ZgAABIpJREFUeJzt1vnTVmMYB/AvYSpEUyPChEZ2GlkyQiHC2Pdh0p+WZaxjGUaiXm9ophQNRrZsKUxGMvYpyQ/3deadHuMvuD+fX677vJ3nvs55zvWcvoccSA4kSVZcnCTJHctaXXhDqzMvS5K8u6cdrn6n6gutrl/Zav58rxavVn2l6htJknPqqHZP7Z7FVSfdcmZb3HN9q1fWGScuSZJ89scRbfcPaveXWx1/pNW/dn5RO71WdVXV15Mkc/JHkuS6kf7XVJ226KS2uH9p/cONrc5tZ3y3f3qSZM2n1b9uc+1jre7+YFfttHakfzuekR+SJNeO9K9umX32sW3xYF3Rsup/Vjvjl8NPTpKMfVX9X6+7fbLV7eO/H3S/E/3b9zE5XyZJloz0r28782Yd3hbL64yb64z57Yz9R52VJFn3XfVf3+rqZ1rd+mxtlHVVh+c/zMP7SZJFdbRspC44rBYrFrZ6e/W/tM6YcUmSZNPu6vt2dXm+1Y0r6/N/v1uL1SO1XfAFdTTc9+gc5s6a1Lur76I6Y3Y74+PfJrW7eq/6v9TqMIf7dn1WG43+DsaTJKflryQTc1hPOVdXPXLJnLa4r864uvqf2uZix75pSZI1H7c/r6rbG6s5/PmjekBZM9K/zeFxaV/gMIdD/+F41vkz2uLB+sv11f+MNod7Js1u/erntmqsuj3R6s71v9ROYyP92xxOzfaD7nfoP3wfc0+a3BbDHN5U/c9vT2zv1HlJkvFva/c3W3316VY/eXF/7bRupP8wB1uTJFfV0ejvYP6UWqyoSb2t5uCiqtMXJEk2/Fi7b6zdn2t188r6fDaN9B2uo33gwjoa/R1cMXz83prUu+rKLq8rPX5xkuTDX2v3LbX7i62ue7jVf36qAfmfOTw9+5L893cwvB+mLD2tLYY5XFxPak57cl/vPTJJ8trW2r22H3u01V+37aidhjkc3kdtLk7Iz0km3n9D/2EOZy44ri0eqL8srf7z2vGPh8xKkqz9vPrXa3fN461+v3HPQf0m+rfrOTo7k0y8/4f+wxyecsrUtlhek3pj9T+vnfHn5LlJkvFvqv8wh0+1um3V3tppvOrB78ND80mSiffO0H+Yg3On1eKhmtRb64wF9cSOmZ8keav9t5LVG6rWe3hLvQ+SDSP9h3ncXNcBAHRHAACADgkAANAhAQAAOiQAAECHBAAA6JAAAAAdEgAAoEMCAAB0SAAAgA4JAADQIQEAADokAABAhwQAAOiQAAAAHRIAAKBDAgAAdEgAAIAOCQAA0CEBAAA6JAAAQIcEAADokAAAAB0SAACgQwIAAHRIAACADgkAANAhAQAAOiQAAECHBAAA6JAAAAAdEgAAoEMCAAB0SAAAgA4JAADQIQEAADokAABAhwQAAOiQAAAAHRIAAKBDAgAAdEgAAIAOCQAA0CEBAAA6JAAAQIcEAADokAAAAB0SAACgQwIAAHRIAACADgkAANAhAQAAOiQAAECHBAAA6JAAAAAdEgAAoEMCAAB0SAAAgA4JAADQIQEAADokAABAhwQAAOiQAAAAHfoXRtHgf7g/BEgAAAAASUVORK5CYII=\"></div><div style=\"vertical-align: middle; max-width: 514px; display: flex; justify-content: space-between;\"><div style=\"float: left;\"><div title=\"#ff0000ff\" style=\"display: inline-block; width: 1em; height: 1em; margin: 0; vertical-align: middle; border: 1px solid #555; background-color: #ff0000ff;\"></div> under</div><div style=\"margin: 0 auto; display: inline-block;\">bad <div title=\"#00000000\" style=\"display: inline-block; width: 1em; height: 1em; margin: 0; vertical-align: middle; border: 1px solid #555; background-color: #00000000;\"></div></div><div style=\"float: right;\">over <div title=\"#000000ff\" style=\"display: inline-block; width: 1em; height: 1em; margin: 0; vertical-align: middle; border: 1px solid #555; background-color: #000000ff;\"></div></div>"
      ],
      "text/plain": [
       "<matplotlib.colors.LinearSegmentedColormap at 0x11a00e050>"
      ]
     },
     "execution_count": 8,
     "metadata": {},
     "output_type": "execute_result"
    }
   ],
   "source": [
    "# Miscellaneous\n",
    "mpl.cm.flag"
   ]
  },
  {
   "cell_type": "code",
   "execution_count": 9,
   "id": "62ea8bb8-22a1-4be1-92b4-6a10475ce16b",
   "metadata": {},
   "outputs": [
    {
     "name": "stdout",
     "output_type": "stream",
     "text": [
      "83\n"
     ]
    }
   ],
   "source": [
    "cmaps = [('Perceptually Uniform Sequential', [\n",
    "            'viridis', 'plasma', 'inferno', 'magma', 'cividis']),\n",
    "         ('Sequential', [\n",
    "            'Greys', 'Purples', 'Blues', 'Greens', 'Oranges', 'Reds',\n",
    "            'YlOrBr', 'YlOrRd', 'OrRd', 'PuRd', 'RdPu', 'BuPu',\n",
    "            'GnBu', 'PuBu', 'YlGnBu', 'PuBuGn', 'BuGn', 'YlGn']),\n",
    "         ('Sequential (2)', [\n",
    "            'binary', 'gist_yarg', 'gist_gray', 'gray', 'bone', 'pink',\n",
    "            'spring', 'summer', 'autumn', 'winter', 'cool', 'Wistia',\n",
    "            'hot', 'afmhot', 'gist_heat', 'copper']),\n",
    "         ('Diverging', [\n",
    "            'PiYG', 'PRGn', 'BrBG', 'PuOr', 'RdGy', 'RdBu',\n",
    "            'RdYlBu', 'RdYlGn', 'Spectral', 'coolwarm', 'bwr', 'seismic']),\n",
    "         ('Cyclic', ['twilight', 'twilight_shifted', 'hsv']),\n",
    "         ('Qualitative', [\n",
    "            'Pastel1', 'Pastel2', 'Paired', 'Accent',\n",
    "            'Dark2', 'Set1', 'Set2', 'Set3',\n",
    "            'tab10', 'tab20', 'tab20b', 'tab20c']),\n",
    "         ('Miscellaneous', [\n",
    "            'flag', 'prism', 'ocean', 'gist_earth', 'terrain', 'gist_stern',\n",
    "            'gnuplot', 'gnuplot2', 'CMRmap', 'cubehelix', 'brg',\n",
    "            'gist_rainbow', 'rainbow', 'jet', 'turbo', 'nipy_spectral',\n",
    "            'gist_ncar'])]\n",
    "cmap_names = []\n",
    "for cmap_name, cmap in cmaps:\n",
    "    cmap_names.extend(cmap)\n",
    "print(len(cmap_names))"
   ]
  },
  {
   "cell_type": "markdown",
   "id": "b3c99669-ef92-4fed-8428-e80287c5ed11",
   "metadata": {},
   "source": [
    "# color-brains\n",
    "\n",
    "Research into the transition schemes of colorbars for maxmimum perceptual differentiation\n",
    "\n",
    "__author__\n",
    "\n",
    "james barrett\n",
    "\n",
    "__email__ \n",
    "\n",
    "jbs.public.function@gmail.com\n",
    "\n",
    "__LinkedIn__\n",
    "\n",
    "https://www.linkedin.com/in/james-barrett-36075bb3/\n",
    "\n",
    "## Categorized colormaps\n",
    "\n",
    "```python\n",
    "    cmaps = [('Perceptually Uniform Sequential', [\n",
    "                'viridis', 'plasma', 'inferno', 'magma', 'cividis']),\n",
    "            ('Sequential', [\n",
    "                'Greys', 'Purples', 'Blues', 'Greens', 'Oranges', 'Reds',\n",
    "                'YlOrBr', 'YlOrRd', 'OrRd', 'PuRd', 'RdPu', 'BuPu',\n",
    "                'GnBu', 'PuBu', 'YlGnBu', 'PuBuGn', 'BuGn', 'YlGn']),\n",
    "            ('Sequential (2)', [\n",
    "                'binary', 'gist_yarg', 'gist_gray', 'gray', 'bone', 'pink',\n",
    "                'spring', 'summer', 'autumn', 'winter', 'cool', 'Wistia',\n",
    "                'hot', 'afmhot', 'gist_heat', 'copper']),\n",
    "            ('Diverging', [\n",
    "                'PiYG', 'PRGn', 'BrBG', 'PuOr', 'RdGy', 'RdBu',\n",
    "                'RdYlBu', 'RdYlGn', 'Spectral', 'coolwarm', 'bwr', 'seismic']),\n",
    "            ('Cyclic', ['twilight', 'twilight_shifted', 'hsv']),\n",
    "            ('Qualitative', [\n",
    "                'Pastel1', 'Pastel2', 'Paired', 'Accent',\n",
    "                'Dark2', 'Set1', 'Set2', 'Set3',\n",
    "                'tab10', 'tab20', 'tab20b', 'tab20c']),\n",
    "            ('Miscellaneous', [\n",
    "                'flag', 'prism', 'ocean', 'gist_earth', 'terrain', 'gist_stern',\n",
    "                'gnuplot', 'gnuplot2', 'CMRmap', 'cubehelix', 'brg',\n",
    "                'gist_rainbow', 'rainbow', 'jet', 'turbo', 'nipy_spectral',\n",
    "                'gist_ncar'])]\n",
    "```\n",
    "\n",
    "[Matplotlib Colormap Documentation](https://matplotlib.org/stable/users/explain/colors/colormaps.html#colormaps)\n",
    "\n",
    "[Matplotlib Colormap Reference](https://matplotlib.org/stable/gallery/color/colormap_reference.html)\n",
    "\n",
    "These colormaps are curated from the maintainers of matplotlib and are labeled by type\n",
    "- Perceptually Uniform Sequential\n",
    "    - For many applications, a perceptually uniform colormap is the best choice; i.e. a colormap in which equal steps in data are perceived as equal steps in the color space. Researchers have found that the human brain perceives changes in the lightness parameter as changes in the data much better than, for example, changes in hue. Therefore, colormaps which have monotonically increasing lightness through the colormap will be better interpreted by the viewer. Wonderful examples of perceptually uniform colormaps can be found in the Third-party colormaps section as well. \n",
    "- Sequential & Sequential (2)\n",
    "    -  change in lightness and often saturation of color incrementally, often using a single hue; should be used for representing information that has ordering. \n",
    "- Diverging\n",
    "    - change in lightness and possibly saturation of two different colors that meet in the middle at an unsaturated color; should be used when the information being plotted has a critical middle value, such as topography or when the data deviates around zero.\n",
    "- Cyclic\n",
    "    - change in lightness of two different colors that meet in the middle and beginning/end at an unsaturated color; should be used for values that wrap around at the endpoints, such as phase angle, wind direction, or time of day. \n",
    "- Qualitative\n",
    "    - often are miscellaneous colors; should be used to represent information which does not have ordering or relationships.\n",
    "- Miscellaneous\n",
    "    - Interesting colormaps of no obvious category\n",
    "\n",
    "__Initial Analysis__\n",
    "\n",
    "Of the 170 named colormaps provided by matplotlib as\n",
    "```python\n",
    "len(mpl.cm._colormaps.keys())\n",
    "```\n",
    "\n",
    "only 83 are categorized currently by matplotlib.\n",
    "\n",
    "Adding all of the *_r colors, the colorbars in reverse to their appropriate categories leave us with all but 4 of the color gradients categorized.\n"
   ]
  },
  {
   "cell_type": "code",
   "execution_count": null,
   "id": "ef24c1a2-0805-4669-b862-f16af2d9096d",
   "metadata": {},
   "outputs": [],
   "source": []
  }
 ],
 "metadata": {
  "kernelspec": {
   "display_name": "color-brains",
   "language": "python",
   "name": "color-brains"
  },
  "language_info": {
   "codemirror_mode": {
    "name": "ipython",
    "version": 3
   },
   "file_extension": ".py",
   "mimetype": "text/x-python",
   "name": "python",
   "nbconvert_exporter": "python",
   "pygments_lexer": "ipython3",
   "version": "3.11.4"
  }
 },
 "nbformat": 4,
 "nbformat_minor": 5
}
