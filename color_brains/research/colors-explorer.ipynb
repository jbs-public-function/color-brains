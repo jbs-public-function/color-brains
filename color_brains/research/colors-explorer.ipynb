{
 "cells": [
  {
   "cell_type": "code",
   "execution_count": 3,
   "id": "3069860f-1757-40ff-b31a-cf99f7686ffa",
   "metadata": {},
   "outputs": [],
   "source": [
    "import matplotlib as mpl\n",
    "import matplotlib.colors as mcolors"
   ]
  },
  {
   "cell_type": "code",
   "execution_count": null,
   "id": "4e31389f-0bf0-404c-9992-6919fcd8865a",
   "metadata": {},
   "outputs": [],
   "source": [
    "# Perceptually Uniform Sequential\n",
    "mpl.cm.cmaps_listed['viridis']"
   ]
  },
  {
   "cell_type": "code",
   "execution_count": 74,
   "id": "cf000e9a-0f34-4d49-83a0-dfd759daf953",
   "metadata": {},
   "outputs": [
    {
     "data": {
      "image/png": "[encoded data removed]",
      "text/html": [
       "<div style=\"vertical-align: middle;\"><strong>YlOrBr</strong> </div><div class=\"cmap\"><img alt=\"YlOrBr colormap\" title=\"YlOrBr\" style=\"border: 1px solid #555;\" src=\"data:image/png;base64,iVBORw0KGgoAAAANSUhEUgAAAgAAAABACAYAAABsv8+/AAAAFXRFWHRUaXRsZQBZbE9yQnIgY29sb3JtYXCzto19AAAAG3RFWHREZXNjcmlwdGlvbgBZbE9yQnIgY29sb3JtYXD6IZWZAAAAMHRFWHRBdXRob3IATWF0cGxvdGxpYiB2My44LjEsIGh0dHBzOi8vbWF0cGxvdGxpYi5vcmc6+GhBAAAAMnRFWHRTb2Z0d2FyZQBNYXRwbG90bGliIHYzLjguMSwgaHR0cHM6Ly9tYXRwbG90bGliLm9yZxRe92YAAAHeSURBVHic7dZLktowAEBBkftfM8cYnEUYUsgo5jer171xWZaE7GLxTtv2extjjLGdx1/b7XU1Pi7j2zx+9Hza7+Hnq/MdPV+d//La8/N5v+3F8bfXT+f/1Pj8ntf5z16/pn1f3efN3/3Y9fI9zovveJ6/25Pzn9538T/ZzT+/db7tOv972u367WD8en+e9jkY/7du2udg/Oic83s9fM7FuXfjj94vzvFj61489/JvOm7vd/PG/XWr9bt51/Wn/+7/8+c73d9vXr+4X77var/dvNP9eZ/+3cU5fg0AIEcAAECQAACAIAEAAEECAACCBAAABAkAAAgSAAAQJAAAIEgAAECQAACAIAEAAEECAACCBAAABAkAAAgSAAAQJAAAIEgAAECQAACAIAEAAEECAACCBAAABAkAAAgSAAAQJAAAIEgAAECQAACAIAEAAEECAACCBAAABAkAAAgSAAAQJAAAIEgAAECQAACAIAEAAEECAACCBAAABAkAAAgSAAAQJAAAIEgAAECQAACAIAEAAEECAACCBAAABAkAAAgSAAAQJAAAIEgAAECQAACAIAEAAEECAACCBAAABAkAAAgSAAAQJAAAIEgAAECQAACAIAEAAEECAACCBAAABAkAAAj6A9Yg3R67d126AAAAAElFTkSuQmCC\"></div><div style=\"vertical-align: middle; max-width: 514px; display: flex; justify-content: space-between;\"><div style=\"float: left;\"><div title=\"#ffffe5ff\" style=\"display: inline-block; width: 1em; height: 1em; margin: 0; vertical-align: middle; border: 1px solid #555; background-color: #ffffe5ff;\"></div> under</div><div style=\"margin: 0 auto; display: inline-block;\">bad <div title=\"#00000000\" style=\"display: inline-block; width: 1em; height: 1em; margin: 0; vertical-align: middle; border: 1px solid #555; background-color: #00000000;\"></div></div><div style=\"float: right;\">over <div title=\"#662506ff\" style=\"display: inline-block; width: 1em; height: 1em; margin: 0; vertical-align: middle; border: 1px solid #555; background-color: #662506ff;\"></div></div>"
      ],
      "text/plain": [
       "<matplotlib.colors.LinearSegmentedColormap at 0x11441bf10>"
      ]
     },
     "execution_count": 74,
     "metadata": {},
     "output_type": "execute_result"
    }
   ],
   "source": [
    "# Sequential\n",
    "mpl.cm.Greys"
   ]
  },
  {
   "cell_type": "code",
   "execution_count": null,
   "id": "8fc29c80-c84e-45de-ba57-3c7780cab97a",
   "metadata": {},
   "outputs": [],
   "source": [
    "# Sequential (2)\n",
    "mpl.cm.binary"
   ]
  },
  {
   "cell_type": "code",
   "execution_count": null,
   "id": "c7a4da7c",
   "metadata": {},
   "outputs": [],
   "source": [
    "# Diverging\n",
    "mpl.cm.PiYG"
   ]
  },
  {
   "cell_type": "code",
   "execution_count": null,
   "id": "0867f95b",
   "metadata": {},
   "outputs": [],
   "source": [
    "# Cyclic\n",
    "mpl.cm.twilight"
   ]
  },
  {
   "cell_type": "code",
   "execution_count": null,
   "id": "bbf470b6",
   "metadata": {},
   "outputs": [],
   "source": [
    "# Qualitative\n",
    "mpl.cm.Pastel1"
   ]
  },
  {
   "cell_type": "code",
   "execution_count": null,
   "id": "8025b55c",
   "metadata": {},
   "outputs": [],
   "source": [
    "# Miscellaneous\n",
    "mpl.cm.flag"
   ]
  },
  {
   "cell_type": "code",
   "execution_count": 65,
   "id": "62ea8bb8-22a1-4be1-92b4-6a10475ce16b",
   "metadata": {},
   "outputs": [
    {
     "name": "stdout",
     "output_type": "stream",
     "text": [
      "83\n"
     ]
    }
   ],
   "source": [
    "cmaps = [('Perceptually Uniform Sequential', [\n",
    "            'viridis', 'plasma', 'inferno', 'magma', 'cividis']),\n",
    "         ('Sequential', [\n",
    "            'Greys', 'Purples', 'Blues', 'Greens', 'Oranges', 'Reds',\n",
    "            'YlOrBr', 'YlOrRd', 'OrRd', 'PuRd', 'RdPu', 'BuPu',\n",
    "            'GnBu', 'PuBu', 'YlGnBu', 'PuBuGn', 'BuGn', 'YlGn']),\n",
    "         ('Sequential (2)', [\n",
    "            'binary', 'gist_yarg', 'gist_gray', 'gray', 'bone', 'pink',\n",
    "            'spring', 'summer', 'autumn', 'winter', 'cool', 'Wistia',\n",
    "            'hot', 'afmhot', 'gist_heat', 'copper']),\n",
    "         ('Diverging', [\n",
    "            'PiYG', 'PRGn', 'BrBG', 'PuOr', 'RdGy', 'RdBu',\n",
    "            'RdYlBu', 'RdYlGn', 'Spectral', 'coolwarm', 'bwr', 'seismic']),\n",
    "         ('Cyclic', ['twilight', 'twilight_shifted', 'hsv']),\n",
    "         ('Qualitative', [\n",
    "            'Pastel1', 'Pastel2', 'Paired', 'Accent',\n",
    "            'Dark2', 'Set1', 'Set2', 'Set3',\n",
    "            'tab10', 'tab20', 'tab20b', 'tab20c']),\n",
    "         ('Miscellaneous', [\n",
    "            'flag', 'prism', 'ocean', 'gist_earth', 'terrain', 'gist_stern',\n",
    "            'gnuplot', 'gnuplot2', 'CMRmap', 'cubehelix', 'brg',\n",
    "            'gist_rainbow', 'rainbow', 'jet', 'turbo', 'nipy_spectral',\n",
    "            'gist_ncar'])]\n",
    "cmap_names = []\n",
    "for cmap_name, cmap in cmaps:\n",
    "    cmap_names.extend(cmap)\n",
    "print(len(cmap_names))"
   ]
  },
  {
   "cell_type": "markdown",
   "id": "b3c99669-ef92-4fed-8428-e80287c5ed11",
   "metadata": {},
   "source": [
    "## Categorized colormaps\n",
    "[Matplotlib Colormap Documentation](https://matplotlib.org/stable/users/explain/colors/colormaps.html#colormaps)\n",
    "\n",
    "[Matplotlib Colormap Reference](https://matplotlib.org/stable/gallery/color/colormap_reference.html)\n",
    "\n",
    "These colormaps are curated from the maintainers of matplotlib and are labeled by type\n",
    "- Perceptually Uniform Sequential\n",
    "    - For many applications, a perceptually uniform colormap is the best choice; i.e. a colormap in which equal steps in data are perceived as equal steps in the color space. Researchers have found that the human brain perceives changes in the lightness parameter as changes in the data much better than, for example, changes in hue. Therefore, colormaps which have monotonically increasing lightness through the colormap will be better interpreted by the viewer. Wonderful examples of perceptually uniform colormaps can be found in the Third-party colormaps section as well. \n",
    "- Sequential & Sequential (2)\n",
    "    -  change in lightness and often saturation of color incrementally, often using a single hue; should be used for representing information that has ordering. \n",
    "- Diverging\n",
    "    - change in lightness and possibly saturation of two different colors that meet in the middle at an unsaturated color; should be used when the information being plotted has a critical middle value, such as topography or when the data deviates around zero.\n",
    "- Cyclic\n",
    "    - change in lightness of two different colors that meet in the middle and beginning/end at an unsaturated color; should be used for values that wrap around at the endpoints, such as phase angle, wind direction, or time of day. \n",
    "- Qualitative\n",
    "    - often are miscellaneous colors; should be used to represent information which does not have ordering or relationships.\n",
    "- Miscellaneous\n",
    "    - Interesting colormaps of no obvious category\n",
    "\n",
    "__Initial Analysis__\n",
    "\n",
    "Of the 170 named colormaps provided by matplotlib as\n",
    "```python\n",
    "len(mpl.cm._colormaps.keys())\n",
    "```\n",
    "\n",
    "only 83 are categorized currently by matplotlib.\n",
    "\n",
    "__Initial Research__\n",
    "In order to facilitate more in depth research it would be helpful to have more data. I want to come up with a algorithm that will define colormaps by category and then categorize the uncategorized colormaps."
   ]
  },
  {
   "cell_type": "code",
   "execution_count": 72,
   "id": "1a2c48db-26cd-4120-b8d5-760c5a0a104f",
   "metadata": {},
   "outputs": [],
   "source": [
    "missing_cmaps = [k for k in mpl.cm._colormaps.keys() if k not in cmap_names]\n",
    "# missing_cmaps"
   ]
  },
  {
   "cell_type": "code",
   "execution_count": null,
   "id": "7e25e355-f1c1-4190-8354-14dbd14ac854",
   "metadata": {},
   "outputs": [],
   "source": []
  }
 ],
 "metadata": {
  "kernelspec": {
   "display_name": "color-brains",
   "language": "python",
   "name": "color-brains"
  },
  "language_info": {
   "codemirror_mode": {
    "name": "ipython",
    "version": 3
   },
   "file_extension": ".py",
   "mimetype": "text/x-python",
   "name": "python",
   "nbconvert_exporter": "python",
   "pygments_lexer": "ipython3",
   "version": "3.11.4"
  }
 },
 "nbformat": 4,
 "nbformat_minor": 5
}
