{
 "cells": [
  {
   "cell_type": "code",
   "execution_count": 220,
   "id": "f9168619-ddea-48f5-85ad-06015c7c2745",
   "metadata": {},
   "outputs": [],
   "source": [
    "from colormaps_dataset import cmap_dataframe, generate_cmap_data, get_cmap_data\n",
    "from keras.models import Sequential\n",
    "from keras.layers import LSTM, Dense\n",
    "import numpy as np\n",
    "from skimage.io import imread\n",
    "from matplotlib.pyplot import imshow, subplots, tight_layout, imsave\n",
    "from matplotlib import image\n",
    "import random\n",
    "from skimage.transform import rescale, resize, downscale_local_mean\n",
    "from skimage.measure import block_reduce\n",
    "import pandas as pd\n",
    "import matplotlib as mpl\n",
    "from PIL import Image as im \n"
   ]
  },
  {
   "cell_type": "code",
   "execution_count": 229,
   "id": "6faa877b-4271-4549-8957-ccdb28a5a7a3",
   "metadata": {},
   "outputs": [
    {
     "data": {
      "text/html": [
       "<div>\n",
       "<style scoped>\n",
       "    .dataframe tbody tr th:only-of-type {\n",
       "        vertical-align: middle;\n",
       "    }\n",
       "\n",
       "    .dataframe tbody tr th {\n",
       "        vertical-align: top;\n",
       "    }\n",
       "\n",
       "    .dataframe thead th {\n",
       "        text-align: right;\n",
       "    }\n",
       "</style>\n",
       "<table border=\"1\" class=\"dataframe\">\n",
       "  <thead>\n",
       "    <tr style=\"text-align: right;\">\n",
       "      <th></th>\n",
       "      <th>category</th>\n",
       "      <th>cmap_name</th>\n",
       "      <th>n</th>\n",
       "      <th>red</th>\n",
       "      <th>green</th>\n",
       "      <th>blue</th>\n",
       "      <th>alpha</th>\n",
       "    </tr>\n",
       "  </thead>\n",
       "  <tbody>\n",
       "    <tr>\n",
       "      <th>0</th>\n",
       "      <td>Perceptually Uniform Sequential</td>\n",
       "      <td>viridis</td>\n",
       "      <td>0</td>\n",
       "      <td>0.267004</td>\n",
       "      <td>0.004874</td>\n",
       "      <td>0.329415</td>\n",
       "      <td>1.0</td>\n",
       "    </tr>\n",
       "    <tr>\n",
       "      <th>1</th>\n",
       "      <td>Perceptually Uniform Sequential</td>\n",
       "      <td>viridis</td>\n",
       "      <td>1</td>\n",
       "      <td>0.268510</td>\n",
       "      <td>0.009605</td>\n",
       "      <td>0.335427</td>\n",
       "      <td>1.0</td>\n",
       "    </tr>\n",
       "    <tr>\n",
       "      <th>2</th>\n",
       "      <td>Perceptually Uniform Sequential</td>\n",
       "      <td>viridis</td>\n",
       "      <td>2</td>\n",
       "      <td>0.269944</td>\n",
       "      <td>0.014625</td>\n",
       "      <td>0.341379</td>\n",
       "      <td>1.0</td>\n",
       "    </tr>\n",
       "    <tr>\n",
       "      <th>3</th>\n",
       "      <td>Perceptually Uniform Sequential</td>\n",
       "      <td>viridis</td>\n",
       "      <td>3</td>\n",
       "      <td>0.271305</td>\n",
       "      <td>0.019942</td>\n",
       "      <td>0.347269</td>\n",
       "      <td>1.0</td>\n",
       "    </tr>\n",
       "    <tr>\n",
       "      <th>4</th>\n",
       "      <td>Perceptually Uniform Sequential</td>\n",
       "      <td>viridis</td>\n",
       "      <td>4</td>\n",
       "      <td>0.272594</td>\n",
       "      <td>0.025563</td>\n",
       "      <td>0.353093</td>\n",
       "      <td>1.0</td>\n",
       "    </tr>\n",
       "  </tbody>\n",
       "</table>\n",
       "</div>"
      ],
      "text/plain": [
       "                          category cmap_name  n       red     green      blue  \\\n",
       "0  Perceptually Uniform Sequential   viridis  0  0.267004  0.004874  0.329415   \n",
       "1  Perceptually Uniform Sequential   viridis  1  0.268510  0.009605  0.335427   \n",
       "2  Perceptually Uniform Sequential   viridis  2  0.269944  0.014625  0.341379   \n",
       "3  Perceptually Uniform Sequential   viridis  3  0.271305  0.019942  0.347269   \n",
       "4  Perceptually Uniform Sequential   viridis  4  0.272594  0.025563  0.353093   \n",
       "\n",
       "   alpha  \n",
       "0    1.0  \n",
       "1    1.0  \n",
       "2    1.0  \n",
       "3    1.0  \n",
       "4    1.0  "
      ]
     },
     "execution_count": 229,
     "metadata": {},
     "output_type": "execute_result"
    }
   ],
   "source": [
    "df = cmap_dataframe()\n",
    "df.head(5)\n",
    "# df.category.unique()"
   ]
  },
  {
   "cell_type": "code",
   "execution_count": 238,
   "id": "e389ae2c-40d3-4bd1-a7f9-73243b24273e",
   "metadata": {},
   "outputs": [
    {
     "data": {
      "text/plain": [
       "category  cmap_name       \n",
       "Cyclic    twilight            510\n",
       "          twilight_shifted    510\n",
       "          hsv                 256\n",
       "dtype: int64"
      ]
     },
     "execution_count": 238,
     "metadata": {},
     "output_type": "execute_result"
    }
   ],
   "source": [
    "df[df.category == \"Cyclic\"].groupby([\"category\", \"cmap_name\"]).size().sort_values(ascending=False)"
   ]
  },
  {
   "cell_type": "markdown",
   "id": "32c63e38-5256-4390-b762-d5ab7fe2c54c",
   "metadata": {},
   "source": [
    "### Tensor\n",
    "\n",
    "For initial experimentation purposes I am going to treat this as a task to define a color ramp so I'll treat each colormap as if it were an image.\n",
    "\n",
    "This gives a tensor of (1, N, 3)\n",
    "\n",
    "1 height by N width with 3 rgb channels in the range of [0,1]\n",
    "\n",
    "The majority of the colormaps have a predefined N of 256 so I'll need to resize the Qualitative colormaps, which are N < 20, up to 256 and `twilight` and `twilight_shifted`  down to 256.\n",
    "\n",
    "```shell\n",
    "category     cmap_name\n",
    "Qualitative  tab20        20\n",
    "             tab20b       20\n",
    "             tab20c       20\n",
    "             Paired       12\n",
    "             Set3         12\n",
    "             tab10        10\n",
    "             Pastel1       9\n",
    "             Set1          9\n",
    "             Accent        8\n",
    "             Dark2         8\n",
    "             Pastel2       8\n",
    "             Set2          8\n",
    "dtype: int64\n",
    "```\n",
    "```shell\n",
    "category  cmap_name       \n",
    "Cyclic    twilight            510\n",
    "          twilight_shifted    510\n",
    "          hsv                 256\n",
    "dtype: int64\n",
    "```"
   ]
  },
  {
   "cell_type": "code",
   "execution_count": 241,
   "id": "5b922065",
   "metadata": {},
   "outputs": [
    {
     "data": {
      "image/png": "[encoded data removed]",
      "text/plain": [
       "<Figure size 640x480 with 1 Axes>"
      ]
     },
     "metadata": {},
     "output_type": "display_data"
    }
   ],
   "source": [
    "# Resize twilight from N=510 -> N=256\n",
    "img1 = np.array([df[df.cmap_name == 'twilight'][[\"red\", \"green\", \"blue\"]]])\n",
    "ax = imshow(img1, aspect='auto')"
   ]
  },
  {
   "cell_type": "code",
   "execution_count": 242,
   "id": "803e624c-4298-475f-b512-34980d864637",
   "metadata": {},
   "outputs": [
    {
     "data": {
      "image/png": "[encoded data removed]",
      "text/plain": [
       "<Figure size 640x480 with 1 Axes>"
      ]
     },
     "metadata": {},
     "output_type": "display_data"
    }
   ],
   "source": [
    "img1 = resize(img1, (1, 256))\n",
    "ax = imshow(img1, aspect='auto')"
   ]
  },
  {
   "cell_type": "code",
   "execution_count": 244,
   "id": "a9c3a6d2-d955-434c-895c-63fa982d11ef",
   "metadata": {},
   "outputs": [
    {
     "data": {
      "image/png": "[encoded data removed]",
      "text/plain": [
       "<Figure size 640x480 with 1 Axes>"
      ]
     },
     "metadata": {},
     "output_type": "display_data"
    }
   ],
   "source": [
    "# Resize Paired from N=12 -> N=256\n",
    "img1 = np.array([df[df.cmap_name == 'Paired'][[\"red\", \"green\", \"blue\"]]])\n",
    "ax = imshow(img1, aspect='auto')"
   ]
  },
  {
   "cell_type": "code",
   "execution_count": 245,
   "id": "23168cfd-7b5f-4acb-94cd-28c65b2264f0",
   "metadata": {},
   "outputs": [
    {
     "data": {
      "image/png": "[encoded data removed]",
      "text/plain": [
       "<Figure size 640x480 with 1 Axes>"
      ]
     },
     "metadata": {},
     "output_type": "display_data"
    }
   ],
   "source": [
    "img1 = resize(img1, (1, 256))\n",
    "ax = imshow(img1, aspect='auto')"
   ]
  },
  {
   "cell_type": "code",
   "execution_count": null,
   "id": "15f26350-40e7-4a24-aa60-0244259f8767",
   "metadata": {},
   "outputs": [],
   "source": []
  }
 ],
 "metadata": {
  "kernelspec": {
   "display_name": "color-brains",
   "language": "python",
   "name": "color-brains"
  },
  "language_info": {
   "codemirror_mode": {
    "name": "ipython",
    "version": 3
   },
   "file_extension": ".py",
   "mimetype": "text/x-python",
   "name": "python",
   "nbconvert_exporter": "python",
   "pygments_lexer": "ipython3",
   "version": "3.11.4"
  }
 },
 "nbformat": 4,
 "nbformat_minor": 5
}
