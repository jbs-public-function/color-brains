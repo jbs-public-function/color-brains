{
 "cells": [
  {
   "cell_type": "code",
   "execution_count": 30,
   "id": "7c75d4fb-b096-4d14-9c3e-b803d0dfbc1c",
   "metadata": {},
   "outputs": [],
   "source": [
    "import os\n",
    "from colormaps_dataset import cmap_dataframe, filepath"
   ]
  },
  {
   "cell_type": "code",
   "execution_count": 31,
   "id": "f51f4168-f112-409a-8430-e7d78e754219",
   "metadata": {},
   "outputs": [
    {
     "data": {
      "text/plain": [
       "(38680, 7)"
      ]
     },
     "metadata": {},
     "output_type": "display_data"
    },
    {
     "data": {
      "text/html": [
       "<div>\n",
       "<style scoped>\n",
       "    .dataframe tbody tr th:only-of-type {\n",
       "        vertical-align: middle;\n",
       "    }\n",
       "\n",
       "    .dataframe tbody tr th {\n",
       "        vertical-align: top;\n",
       "    }\n",
       "\n",
       "    .dataframe thead th {\n",
       "        text-align: right;\n",
       "    }\n",
       "</style>\n",
       "<table border=\"1\" class=\"dataframe\">\n",
       "  <thead>\n",
       "    <tr style=\"text-align: right;\">\n",
       "      <th></th>\n",
       "      <th>category</th>\n",
       "      <th>cmap_name</th>\n",
       "      <th>n</th>\n",
       "      <th>red</th>\n",
       "      <th>green</th>\n",
       "      <th>blue</th>\n",
       "      <th>alpha</th>\n",
       "    </tr>\n",
       "  </thead>\n",
       "  <tbody>\n",
       "    <tr>\n",
       "      <th>0</th>\n",
       "      <td>Perceptually Uniform Sequential</td>\n",
       "      <td>viridis</td>\n",
       "      <td>0</td>\n",
       "      <td>0.267004</td>\n",
       "      <td>0.004874</td>\n",
       "      <td>0.329415</td>\n",
       "      <td>1.0</td>\n",
       "    </tr>\n",
       "    <tr>\n",
       "      <th>1</th>\n",
       "      <td>Perceptually Uniform Sequential</td>\n",
       "      <td>viridis</td>\n",
       "      <td>1</td>\n",
       "      <td>0.268510</td>\n",
       "      <td>0.009605</td>\n",
       "      <td>0.335427</td>\n",
       "      <td>1.0</td>\n",
       "    </tr>\n",
       "    <tr>\n",
       "      <th>2</th>\n",
       "      <td>Perceptually Uniform Sequential</td>\n",
       "      <td>viridis</td>\n",
       "      <td>2</td>\n",
       "      <td>0.269944</td>\n",
       "      <td>0.014625</td>\n",
       "      <td>0.341379</td>\n",
       "      <td>1.0</td>\n",
       "    </tr>\n",
       "    <tr>\n",
       "      <th>3</th>\n",
       "      <td>Perceptually Uniform Sequential</td>\n",
       "      <td>viridis</td>\n",
       "      <td>3</td>\n",
       "      <td>0.271305</td>\n",
       "      <td>0.019942</td>\n",
       "      <td>0.347269</td>\n",
       "      <td>1.0</td>\n",
       "    </tr>\n",
       "    <tr>\n",
       "      <th>4</th>\n",
       "      <td>Perceptually Uniform Sequential</td>\n",
       "      <td>viridis</td>\n",
       "      <td>4</td>\n",
       "      <td>0.272594</td>\n",
       "      <td>0.025563</td>\n",
       "      <td>0.353093</td>\n",
       "      <td>1.0</td>\n",
       "    </tr>\n",
       "  </tbody>\n",
       "</table>\n",
       "</div>"
      ],
      "text/plain": [
       "                          category cmap_name  n       red     green      blue  \\\n",
       "0  Perceptually Uniform Sequential   viridis  0  0.267004  0.004874  0.329415   \n",
       "1  Perceptually Uniform Sequential   viridis  1  0.268510  0.009605  0.335427   \n",
       "2  Perceptually Uniform Sequential   viridis  2  0.269944  0.014625  0.341379   \n",
       "3  Perceptually Uniform Sequential   viridis  3  0.271305  0.019942  0.347269   \n",
       "4  Perceptually Uniform Sequential   viridis  4  0.272594  0.025563  0.353093   \n",
       "\n",
       "   alpha  \n",
       "0    1.0  \n",
       "1    1.0  \n",
       "2    1.0  \n",
       "3    1.0  \n",
       "4    1.0  "
      ]
     },
     "execution_count": 31,
     "metadata": {},
     "output_type": "execute_result"
    }
   ],
   "source": [
    "df = cmap_dataframe()\n",
    "display(df.shape)\n",
    "df.head(5)"
   ]
  },
  {
   "cell_type": "code",
   "execution_count": 32,
   "id": "e2ca5263-e275-47fb-ae53-4eff75359cc0",
   "metadata": {},
   "outputs": [
    {
     "data": {
      "text/plain": [
       "Text(0.5, 1.0, 'Histogram of RGB')"
      ]
     },
     "execution_count": 32,
     "metadata": {},
     "output_type": "execute_result"
    },
    {
     "data": {
      "image/png": "[encoded data removed]",
      "text/plain": [
       "<Figure size 640x480 with 1 Axes>"
      ]
     },
     "metadata": {},
     "output_type": "display_data"
    }
   ],
   "source": [
    "ax = df.red.hist(bins=50, color='r', alpha=0.4, label='red')\n",
    "ax = df.green.hist(ax=ax, bins=50, color='green', alpha=0.4, label='green')\n",
    "ax = df.blue.hist(ax=ax, bins=50, color='green', alpha=0.4, label='blue')\n",
    "ax.legend()\n",
    "ax.set_title(\"Histogram of RGB\")"
   ]
  },
  {
   "cell_type": "code",
   "execution_count": 19,
   "id": "0b0e39c3-6cf7-4e50-8bb4-ad90d560c3ff",
   "metadata": {},
   "outputs": [
    {
     "data": {
      "text/plain": [
       "category\n",
       "Cyclic                              1276\n",
       "Diverging                           3072\n",
       "Miscellaneous                       4352\n",
       "Perceptually Uniform Sequential     1280\n",
       "Qualitative                          144\n",
       "Sequential                          4608\n",
       "Sequential (2)                      4096\n",
       "Uncategorized                      19852\n",
       "dtype: int64"
      ]
     },
     "execution_count": 19,
     "metadata": {},
     "output_type": "execute_result"
    }
   ],
   "source": [
    "df.groupby([\"category\"]).size()"
   ]
  },
  {
   "cell_type": "code",
   "execution_count": 20,
   "id": "d9a9e150-ef7f-4966-8819-3cccb581ed68",
   "metadata": {},
   "outputs": [
    {
     "data": {
      "text/plain": [
       "count    170.000000\n",
       "mean     227.529412\n",
       "std       95.758768\n",
       "min        8.000000\n",
       "25%      256.000000\n",
       "50%      256.000000\n",
       "75%      256.000000\n",
       "max      510.000000\n",
       "dtype: float64"
      ]
     },
     "execution_count": 20,
     "metadata": {},
     "output_type": "execute_result"
    }
   ],
   "source": [
    "df.groupby([\"category\", \"cmap_name\"]).size().describe()"
   ]
  },
  {
   "cell_type": "code",
   "execution_count": 28,
   "id": "c499aa49-d012-4819-950f-aa69358c9425",
   "metadata": {},
   "outputs": [
    {
     "data": {
      "text/plain": [
       "count    38680.0\n",
       "mean         1.0\n",
       "std          0.0\n",
       "min          1.0\n",
       "25%          1.0\n",
       "50%          1.0\n",
       "75%          1.0\n",
       "max          1.0\n",
       "Name: alpha, dtype: float64"
      ]
     },
     "execution_count": 28,
     "metadata": {},
     "output_type": "execute_result"
    }
   ],
   "source": [
    "df.alpha.describe()"
   ]
  },
  {
   "cell_type": "code",
   "execution_count": 24,
   "id": "be7cc1d1-94d1-4156-a33f-70f2fcb8a0e2",
   "metadata": {},
   "outputs": [
    {
     "data": {
      "text/plain": [
       "count     83.000000\n",
       "mean     226.843373\n",
       "std       97.103350\n",
       "min        8.000000\n",
       "25%      256.000000\n",
       "50%      256.000000\n",
       "75%      256.000000\n",
       "max      510.000000\n",
       "dtype: float64"
      ]
     },
     "execution_count": 24,
     "metadata": {},
     "output_type": "execute_result"
    }
   ],
   "source": [
    "categorized_df = df[df.category != \"Uncategorized\"]\n",
    "categorized_df.groupby([\"category\"]).size().describe()"
   ]
  },
  {
   "cell_type": "code",
   "execution_count": 26,
   "id": "d13c9656-8e77-4b0d-bc9e-e14f854a65e6",
   "metadata": {},
   "outputs": [
    {
     "data": {
      "text/plain": [
       "18828"
      ]
     },
     "execution_count": 26,
     "metadata": {},
     "output_type": "execute_result"
    }
   ],
   "source": [
    "categorized_df.groupby([\"category\"]).size().sum()"
   ]
  },
  {
   "cell_type": "code",
   "execution_count": null,
   "id": "541cbdb1-00e3-4b38-b37a-c9f0ffee1094",
   "metadata": {},
   "outputs": [],
   "source": []
  }
 ],
 "metadata": {
  "kernelspec": {
   "display_name": "color-brains",
   "language": "python",
   "name": "color-brains"
  },
  "language_info": {
   "codemirror_mode": {
    "name": "ipython",
    "version": 3
   },
   "file_extension": ".py",
   "mimetype": "text/x-python",
   "name": "python",
   "nbconvert_exporter": "python",
   "pygments_lexer": "ipython3",
   "version": "3.11.4"
  }
 },
 "nbformat": 4,
 "nbformat_minor": 5
}
